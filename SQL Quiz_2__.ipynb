{
  "cells": [
    {
      "cell_type": "markdown",
      "id": "00060f85",
      "metadata": {
        "id": "00060f85"
      },
      "source": [
        "\n",
        "## SQL Quiz"
      ]
    },
    {
      "cell_type": "markdown",
      "id": "0415bee5",
      "metadata": {
        "id": "0415bee5"
      },
      "source": [
        "* Please fill in this .ipynb file with your answers. Download the file using the File ->Download -> Download .ipynb and once downloaded, please upload the file to Gradescope. **Just upload the .ipynb file only. No need to upload the `flights.sqlite` file**\n",
        "* You have to turn in to Gradescope before the deadline. Late submissions will not be accepted.\n",
        "\n",
        "**Rules for taking the test:**\n",
        "\n",
        "* You must complete the test on your own.\n",
        "* You are not allowed to collaborate with anyone else, regardless of whether they are in the class or not.\n",
        "* The exam is open-book and open-note. You may consult any of the course materials such as lecture notes, workbook.ipynb, w3schools website or the eBooks.\n",
        "* You may not post questions on any other website.\n",
        "\n",
        "Obviously, I'm mostly relying on the honor system to enforce these rules.\n",
        "\n",
        "The difficulty and format of final project and other assignments/tests will strongly depend on how seriously they are observed."
      ]
    },
    {
      "cell_type": "markdown",
      "source": [
        "## Flights dataset\n",
        "\n",
        "We will be using the `flights` dataset used in the class. We will run some queries on this dataset.  `flights.sqlite` is part of this zip file you downloaded. If you are using Colab, upload the .ipynb file first and then uplaod `flights.sqlite` file to the Colab machine by selecting `Files` tab on the left and then selecting `Upload to session storage button`. If you are using Jupyber lab then ensure that the .ipynb file and `flights.sqlite` are in the same folder.\n",
        "\n",
        "You need to put your answer by replacing the string `your query here` in each question. You can add more statements to the answer block as you deem fit. Getting the test cases to pass should be your goal."
      ],
      "metadata": {
        "id": "slhueH6avKzP"
      },
      "id": "slhueH6avKzP"
    },
    {
      "cell_type": "markdown",
      "source": [
        "**Testcase**\n",
        "\n",
        "Most of the questions have a Testcase block following the question. If present, please do not change anything in the testcase block. Note that the test cases are using the cursor resultset. If you run the test case twice without running the block that repopulates the cursor, you will get erroneous results."
      ],
      "metadata": {
        "id": "GSScQkP1yrJT"
      },
      "id": "GSScQkP1yrJT"
    },
    {
      "cell_type": "markdown",
      "source": [
        "## Please run this code block first"
      ],
      "metadata": {
        "id": "vxGNHP8mByeF"
      },
      "id": "vxGNHP8mByeF"
    },
    {
      "cell_type": "code",
      "execution_count": 28,
      "id": "db31de16",
      "metadata": {
        "id": "db31de16"
      },
      "outputs": [],
      "source": [
        "# Please run this code block first\n",
        "import sqlite3\n",
        "\n",
        "con = sqlite3.connect(\"flights.sqlite\")\n",
        "cur = con.cursor()"
      ]
    },
    {
      "cell_type": "markdown",
      "id": "0699e89e",
      "metadata": {
        "id": "0699e89e"
      },
      "source": [
        "### Question 1\n",
        "Find the total count of records in this dataset. You need to put your query as a string in the place holder provided. You can verify if you got the question correct by running the test case present in the next code cell"
      ]
    },
    {
      "cell_type": "code",
      "execution_count": 45,
      "id": "de4befa7",
      "metadata": {
        "id": "de4befa7"
      },
      "outputs": [],
      "source": [
        "# YOUR ANSWER\n",
        "sql_count_query = '''SELECT COUNT(*) FROM flights'''\n",
        "res = cur.execute(sql_count_query)"
      ]
    },
    {
      "cell_type": "markdown",
      "source": [
        "**Testcase**\n"
      ],
      "metadata": {
        "id": "bxlFmtwSxgcn"
      },
      "id": "bxlFmtwSxgcn"
    },
    {
      "cell_type": "code",
      "source": [
        "# DO NOT MODIFY THIS CODE BLOCK\n",
        "assert res.fetchall() == [(336776,)]\n",
        "print(\"Tests passed!\")\n",
        "s1 = 1"
      ],
      "metadata": {
        "id": "CrqNRH4rwqH1",
        "colab": {
          "base_uri": "https://localhost:8080/"
        },
        "outputId": "05785371-f426-4566-e392-3bb9ef93b761"
      },
      "id": "CrqNRH4rwqH1",
      "execution_count": 46,
      "outputs": [
        {
          "output_type": "stream",
          "name": "stdout",
          "text": [
            "Tests passed!\n"
          ]
        }
      ]
    },
    {
      "cell_type": "code",
      "source": [
        "from google.colab import drive\n",
        "drive.mount('/content/drive')"
      ],
      "metadata": {
        "colab": {
          "base_uri": "https://localhost:8080/"
        },
        "id": "yvVY8zV_h2nZ",
        "outputId": "32c6ddf7-b4be-4cb3-9441-dc6990ada80c"
      },
      "id": "yvVY8zV_h2nZ",
      "execution_count": 32,
      "outputs": [
        {
          "output_type": "stream",
          "name": "stdout",
          "text": [
            "Mounted at /content/drive\n"
          ]
        }
      ]
    },
    {
      "cell_type": "markdown",
      "id": "a9bff225",
      "metadata": {
        "id": "a9bff225"
      },
      "source": [
        "### Question 2\n",
        "Find the average dep_delay (rounded to 2 decimal places) for each of the origin airport. Hint: `origin` column is what you should use in your query"
      ]
    },
    {
      "cell_type": "code",
      "execution_count": 33,
      "id": "7bb25bd0",
      "metadata": {
        "id": "7bb25bd0"
      },
      "outputs": [],
      "source": [
        "# YOUR ANSWER\n",
        "sql_grouped_origin_query = '''SELECT origin, ROUND(AVG(dep_delay),2) as average_dep_delay\n",
        "FROM flights\n",
        "GROUP BY origin\n",
        "ORDER BY origin'''\n",
        "res = cur.execute(sql_grouped_origin_query)"
      ]
    },
    {
      "cell_type": "markdown",
      "source": [
        "**Testcase**"
      ],
      "metadata": {
        "id": "D-MTLyjPvUd0"
      },
      "id": "D-MTLyjPvUd0"
    },
    {
      "cell_type": "code",
      "source": [
        "# DO NOT MODIFY THIS CODE BLOCK\n",
        "assert res.fetchall() == [('EWR', 15.11), ('JFK', 12.11), ('LGA', 10.35)]\n",
        "print(\"Tests passed!\")\n",
        "s2 = 1"
      ],
      "metadata": {
        "id": "cyiTZvpWr04q",
        "colab": {
          "base_uri": "https://localhost:8080/"
        },
        "outputId": "1a27c24a-d229-4de4-f738-84337887a212"
      },
      "id": "cyiTZvpWr04q",
      "execution_count": 34,
      "outputs": [
        {
          "output_type": "stream",
          "name": "stdout",
          "text": [
            "Tests passed!\n"
          ]
        }
      ]
    },
    {
      "cell_type": "markdown",
      "id": "41cf4644",
      "metadata": {
        "id": "41cf4644"
      },
      "source": [
        "### Question 3\n",
        "Find the top 5 destinations (frequency distribution). Hint: `dest` column gives you the destination code"
      ]
    },
    {
      "cell_type": "code",
      "execution_count": 35,
      "id": "d602dce8",
      "metadata": {
        "id": "d602dce8"
      },
      "outputs": [],
      "source": [
        "# YOUR ANSWER\n",
        "sql_top_5_prop_query = '''SELECT dest, COUNT(*) as frequency\n",
        "FROM flights\n",
        "GROUP BY dest\n",
        "ORDER BY frequency DESC\n",
        "LIMIT 5'''\n",
        "res = cur.execute(sql_top_5_prop_query)"
      ]
    },
    {
      "cell_type": "markdown",
      "source": [
        "**Testcase**"
      ],
      "metadata": {
        "id": "PtVJoncsvaKW"
      },
      "id": "PtVJoncsvaKW"
    },
    {
      "cell_type": "code",
      "source": [
        "# DO NOT MODIFY THIS CODE BLOCK\n",
        "assert res.fetchall() == [('ORD', 17283),\n",
        " ('ATL', 17215),\n",
        " ('LAX', 16174),\n",
        " ('BOS', 15508),\n",
        " ('MCO', 14082)]\n",
        "\n",
        "print(\"Test passed!\")\n",
        "s3 = 1\n"
      ],
      "metadata": {
        "id": "RkSA58_KvQIU",
        "colab": {
          "base_uri": "https://localhost:8080/"
        },
        "outputId": "caa65a27-65e1-4256-94d5-82dd4a1bbd19"
      },
      "id": "RkSA58_KvQIU",
      "execution_count": 36,
      "outputs": [
        {
          "output_type": "stream",
          "name": "stdout",
          "text": [
            "Test passed!\n"
          ]
        }
      ]
    },
    {
      "cell_type": "markdown",
      "id": "e7e9d5e0",
      "metadata": {
        "id": "e7e9d5e0"
      },
      "source": [
        "### Question 4\n",
        "\n",
        "Display the total count of flights to these 5 top destinations from each origin airport, ordered by count descending. You can make use of the values from the previous question to get the answer to this quesiton"
      ]
    },
    {
      "cell_type": "code",
      "execution_count": 37,
      "id": "1b1f21b4",
      "metadata": {
        "id": "1b1f21b4"
      },
      "outputs": [],
      "source": [
        "# YOUR ANSWER\n",
        "sql_origin_count_query = '''SELECT origin, COUNT(*) as flight_count\n",
        "from flights\n",
        "WHERE dest IN (\n",
        "  SELECT dest\n",
        "  FROM flights\n",
        "  GROUP BY dest\n",
        "  ORDER BY COUNT(*) DESC\n",
        "  LIMIT 5)\n",
        "  GROUP BY origin\n",
        "  ORDER BY flight_count DESC'''\n",
        "res = cur.execute(sql_origin_count_query)"
      ]
    },
    {
      "cell_type": "markdown",
      "id": "5e8b7851",
      "metadata": {
        "id": "5e8b7851"
      },
      "source": [
        "**Testcase**"
      ]
    },
    {
      "cell_type": "code",
      "execution_count": 38,
      "id": "0369123a",
      "metadata": {
        "id": "0369123a",
        "outputId": "799da073-3c26-41c5-e958-f2384a6d9781",
        "colab": {
          "base_uri": "https://localhost:8080/"
        }
      },
      "outputs": [
        {
          "output_type": "stream",
          "name": "stdout",
          "text": [
            "Tests passed!\n"
          ]
        }
      ],
      "source": [
        "# DO NOT MODIFY THIS CODE BLOCK\n",
        "assert res.fetchall() == [('LGA', 27080), ('JFK', 26880), ('EWR', 26302)]\n",
        "print(\"Tests passed!\")\n",
        "s4 = 1"
      ]
    },
    {
      "cell_type": "markdown",
      "source": [
        "### Question 5\n",
        "\n",
        "Find the total number of distinct destinations in this dataset"
      ],
      "metadata": {
        "id": "WOtB5R5gA7kB"
      },
      "id": "WOtB5R5gA7kB"
    },
    {
      "cell_type": "code",
      "source": [
        "# YOUR ANSWER\n",
        "sql_distinct_query = '''select COUNT(DISTINCT dest) from flights'''\n",
        "res = cur.execute(sql_distinct_query)"
      ],
      "metadata": {
        "id": "0dncpL67BAPR"
      },
      "id": "0dncpL67BAPR",
      "execution_count": 41,
      "outputs": []
    },
    {
      "cell_type": "markdown",
      "source": [
        "**Testcase**"
      ],
      "metadata": {
        "id": "Sn7I6fwS2fgl"
      },
      "id": "Sn7I6fwS2fgl"
    },
    {
      "cell_type": "code",
      "source": [
        "## DO NOT MODIFY THIS CODE BLOCK\n",
        "assert res.fetchall() == [(105,)]\n",
        "print('Test passed!')\n",
        "s5 = 1"
      ],
      "metadata": {
        "colab": {
          "base_uri": "https://localhost:8080/"
        },
        "id": "Tjmsg9gqBHpC",
        "outputId": "6f042c06-b261-45c9-eb3b-077b0a01d735"
      },
      "id": "Tjmsg9gqBHpC",
      "execution_count": 42,
      "outputs": [
        {
          "output_type": "stream",
          "name": "stdout",
          "text": [
            "Test passed!\n"
          ]
        }
      ]
    },
    {
      "cell_type": "markdown",
      "source": [
        "### Question 6\n",
        "\n",
        "Find the percentage of cancelled flights vs total flights on Jan 30th 2013\n"
      ],
      "metadata": {
        "id": "wP0JqMQ6Bw8J"
      },
      "id": "wP0JqMQ6Bw8J"
    },
    {
      "cell_type": "code",
      "source": [
        "# YOUR ANSWER\n",
        "sql_cancelled_query = '''\n",
        "SELECT\n",
        "    ROUND((SUM(CASE WHEN dep_time IS NULL THEN 1.0 ELSE 0.0 END) / COUNT(*)) * 100, 2) AS percentage_cancelled\n",
        "FROM flights\n",
        "WHERE year = 2013 AND month = 1 AND day = 30\n",
        "'''\n",
        "res = cur.execute(sql_cancelled_query)"
      ],
      "metadata": {
        "id": "UwqA2flXCrfh"
      },
      "id": "UwqA2flXCrfh",
      "execution_count": 135,
      "outputs": []
    },
    {
      "cell_type": "markdown",
      "source": [
        "**Testcase**"
      ],
      "metadata": {
        "id": "5Bx7cDpd20oI"
      },
      "id": "5Bx7cDpd20oI"
    },
    {
      "cell_type": "code",
      "source": [
        "assert res.fetchall() == [(10.89,)]\n",
        "print('Test passed!')\n",
        "s6 = 1"
      ],
      "metadata": {
        "id": "aKmJa1LIC64j",
        "colab": {
          "base_uri": "https://localhost:8080/"
        },
        "outputId": "fae6c2cf-73f2-45c3-99c7-66974266c730"
      },
      "id": "aKmJa1LIC64j",
      "execution_count": 136,
      "outputs": [
        {
          "output_type": "stream",
          "name": "stdout",
          "text": [
            "Test passed!\n"
          ]
        }
      ]
    },
    {
      "cell_type": "markdown",
      "source": [
        "### Question 7\n",
        "\n",
        " Calculate the aircraft 'speed',  as `distance/air_time` and then find the top 10 speeds, and then find the airline carrier that appears the most in the top 10 speeds.  "
      ],
      "metadata": {
        "id": "SQyZBzbgVGJN"
      },
      "id": "SQyZBzbgVGJN"
    },
    {
      "cell_type": "code",
      "source": [
        "# YOUR ANSWER\n",
        "sql_top_speed_airline = '''SELECT DISTINCT MAX(speed_count) AS max_speed_count,carrier\n",
        "FROM (\n",
        "    SELECT speed, carrier, COUNT(*) AS speed_count\n",
        "    FROM (\n",
        "        SELECT\n",
        "            carrier,\n",
        "            (distance * 1.0) / air_time AS speed\n",
        "        FROM\n",
        "            flights\n",
        "        WHERE\n",
        "            air_time > 0\n",
        "        ORDER BY speed DESC\n",
        "        LIMIT 10\n",
        "    ) AS Top10Speeds\n",
        "    GROUP BY carrier\n",
        ") AS CarrierCounts\n",
        "LIMIT 1;'''\n",
        "res = cur.execute(sql_top_speed_airline)"
      ],
      "metadata": {
        "id": "JUtUop5zVhy3"
      },
      "id": "JUtUop5zVhy3",
      "execution_count": 113,
      "outputs": []
    },
    {
      "cell_type": "markdown",
      "source": [
        "**Testcase**"
      ],
      "metadata": {
        "id": "yngm34ed5f2H"
      },
      "id": "yngm34ed5f2H"
    },
    {
      "cell_type": "code",
      "source": [
        "assert res.fetchall() == [(4, 'DL')]\n",
        "print('Test passed!')\n",
        "s7 = 1"
      ],
      "metadata": {
        "id": "T7c6TrQm5SrY",
        "colab": {
          "base_uri": "https://localhost:8080/"
        },
        "outputId": "4963f182-3623-4794-e26a-a4c574ee6590"
      },
      "id": "T7c6TrQm5SrY",
      "execution_count": 114,
      "outputs": [
        {
          "output_type": "stream",
          "name": "stdout",
          "text": [
            "Test passed!\n"
          ]
        }
      ]
    },
    {
      "cell_type": "markdown",
      "source": [
        "## Score"
      ],
      "metadata": {
        "id": "I-H85TzV9dBw"
      },
      "id": "I-H85TzV9dBw"
    },
    {
      "cell_type": "markdown",
      "source": [
        "This block is a quick way of finding your score. It is not necessary this is accurate but it gives you some idea. Your assignment will be manually reviewed for the final score."
      ],
      "metadata": {
        "id": "gdpBQGSj2164"
      },
      "id": "gdpBQGSj2164"
    },
    {
      "cell_type": "code",
      "source": [
        "## Please run this final score\n",
        "score = 0;\n",
        "q = [s1, s2, s3, s4, s5, s6]\n",
        "for s in q:\n",
        "  if s:\n",
        "    score += s\n",
        "\n",
        "print(score)"
      ],
      "metadata": {
        "id": "ZAkpj2GGFOxP",
        "colab": {
          "base_uri": "https://localhost:8080/"
        },
        "outputId": "498ffd7f-4fa8-4749-8cc0-6ed4f498c871"
      },
      "id": "ZAkpj2GGFOxP",
      "execution_count": 137,
      "outputs": [
        {
          "output_type": "stream",
          "name": "stdout",
          "text": [
            "6\n"
          ]
        }
      ]
    },
    {
      "cell_type": "code",
      "source": [],
      "metadata": {
        "id": "dD6s_0kuuolE"
      },
      "id": "dD6s_0kuuolE",
      "execution_count": null,
      "outputs": []
    }
  ],
  "metadata": {
    "celltoolbar": "Slideshow",
    "kernelspec": {
      "display_name": "Python 3 (ipykernel)",
      "language": "python",
      "name": "python3"
    },
    "language_info": {
      "codemirror_mode": {
        "name": "ipython",
        "version": 3
      },
      "file_extension": ".py",
      "mimetype": "text/x-python",
      "name": "python",
      "nbconvert_exporter": "python",
      "pygments_lexer": "ipython3",
      "version": "3.9.12"
    },
    "colab": {
      "provenance": []
    }
  },
  "nbformat": 4,
  "nbformat_minor": 5
}